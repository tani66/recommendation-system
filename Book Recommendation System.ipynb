{
 "cells": [
  {
   "cell_type": "markdown",
   "id": "cc217ba6",
   "metadata": {},
   "source": [
    "- bookID: Unique identification number fro each book\n",
    "- title: Name under which book was published\n",
    "- authors: Name of the Authors of the book\n",
    "- average_rating: Avarage rating of the book recevied in total.\n",
    "- isbn: International standarded book number\n",
    "- isbn13: 13 digit isbn to identify the book\n",
    "- language_code: Primary Language of the book\n",
    "- num_pages: Number of pages the book containes\n",
    "- ratings_count: Total Number of ratings the book recevied.\n",
    "- text_reviews_count: Total number of written reviews recevied.\n",
    "- publication_date: Date when the book was first published\n",
    "- publisher: Name of the Pulishers"
   ]
  },
  {
   "cell_type": "code",
   "execution_count": 47,
   "id": "7af4f12e",
   "metadata": {},
   "outputs": [],
   "source": [
    "import pandas as pd\n",
    "import numpy as np\n",
    "\n",
    "# for data visualisation\n",
    "import matplotlib.pyplot as plt\n",
    "import seaborn as sns\n",
    "\n",
    "# for interactive plots\n",
    "import ipywidgets\n",
    "from ipywidgets import interact\n",
    "from ipywidgets import interact_manual"
   ]
  },
  {
   "cell_type": "code",
   "execution_count": 50,
   "id": "0252b668",
   "metadata": {},
   "outputs": [
    {
     "ename": "NameError",
     "evalue": "name 'df' is not defined",
     "output_type": "error",
     "traceback": [
      "\u001b[1;31m---------------------------------------------------------------------------\u001b[0m",
      "\u001b[1;31mNameError\u001b[0m                                 Traceback (most recent call last)",
      "Cell \u001b[1;32mIn[50], line 1\u001b[0m\n\u001b[1;32m----> 1\u001b[0m df\u001b[38;5;241m.\u001b[39mcolumns \u001b[38;5;241m=\u001b[39m df\u001b[38;5;241m.\u001b[39mcolumns\u001b[38;5;241m.\u001b[39mstr\u001b[38;5;241m.\u001b[39mstrip()\n",
      "\u001b[1;31mNameError\u001b[0m: name 'df' is not defined"
     ]
    }
   ],
   "source": [
    "df.columns = df.columns.str.strip()"
   ]
  },
  {
   "cell_type": "code",
   "execution_count": null,
   "id": "4b70fb2e",
   "metadata": {},
   "outputs": [],
   "source": [
    "df.columns"
   ]
  },
  {
   "cell_type": "code",
   "execution_count": null,
   "id": "bd5b9b83",
   "metadata": {},
   "outputs": [],
   "source": [
    "df.dtypes"
   ]
  },
  {
   "cell_type": "code",
   "execution_count": null,
   "id": "1c71a49b",
   "metadata": {},
   "outputs": [],
   "source": [
    "df.describe()"
   ]
  },
  {
   "cell_type": "code",
   "execution_count": null,
   "id": "d82cb543",
   "metadata": {},
   "outputs": [],
   "source": [
    "df.describe(include = 'object')"
   ]
  },
  {
   "cell_type": "code",
   "execution_count": null,
   "id": "50336c1f",
   "metadata": {},
   "outputs": [],
   "source": [
    "df.isnull().sum()"
   ]
  },
  {
   "cell_type": "code",
   "execution_count": null,
   "id": "49189eff",
   "metadata": {},
   "outputs": [],
   "source": [
    "df.duplicated().any()"
   ]
  },
  {
   "cell_type": "code",
   "execution_count": null,
   "id": "e0aa9af8",
   "metadata": {},
   "outputs": [],
   "source": [
    "df.info()"
   ]
  },
  {
   "cell_type": "markdown",
   "id": "1ad2658f",
   "metadata": {},
   "source": [
    "# Feature Engineering"
   ]
  },
  {
   "cell_type": "markdown",
   "id": "8297d770",
   "metadata": {},
   "source": [
    "- Extract Important Features\n",
    "- Reducing the size of Features\n",
    "- Creating new features from the existring ones"
   ]
  },
  {
   "cell_type": "code",
   "execution_count": null,
   "id": "60b161ea",
   "metadata": {},
   "outputs": [],
   "source": [
    "df.columns"
   ]
  },
  {
   "cell_type": "code",
   "execution_count": null,
   "id": "a264cafb",
   "metadata": {},
   "outputs": [],
   "source": [
    "df.isbn.nunique()"
   ]
  },
  {
   "cell_type": "code",
   "execution_count": null,
   "id": "bfa805fa",
   "metadata": {},
   "outputs": [],
   "source": [
    "df.isbn13.nunique()"
   ]
  },
  {
   "cell_type": "code",
   "execution_count": null,
   "id": "da73e7bf",
   "metadata": {},
   "outputs": [],
   "source": [
    "df.drop(['bookID', 'isbn', 'isbn13'], axis = 1, inplace = True)"
   ]
  },
  {
   "cell_type": "code",
   "execution_count": null,
   "id": "99d440ec",
   "metadata": {},
   "outputs": [],
   "source": [
    "df.columns"
   ]
  },
  {
   "cell_type": "code",
   "execution_count": null,
   "id": "45a82a2d",
   "metadata": {},
   "outputs": [],
   "source": [
    "df.publication_date"
   ]
  },
  {
   "cell_type": "code",
   "execution_count": null,
   "id": "0f813d04",
   "metadata": {},
   "outputs": [],
   "source": [
    "df['year'] = df['publication_date'].str.split('/')\n",
    "df['year'] = df['year'].apply(lambda x: x[2])"
   ]
  },
  {
   "cell_type": "code",
   "execution_count": null,
   "id": "8145135d",
   "metadata": {},
   "outputs": [],
   "source": [
    "df.head(2)"
   ]
  },
  {
   "cell_type": "code",
   "execution_count": null,
   "id": "c69cb488",
   "metadata": {},
   "outputs": [],
   "source": [
    "df.dtypes"
   ]
  },
  {
   "cell_type": "code",
   "execution_count": null,
   "id": "6f858f57",
   "metadata": {},
   "outputs": [],
   "source": [
    "df['year'] = df['year'].astype('int')"
   ]
  },
  {
   "cell_type": "code",
   "execution_count": null,
   "id": "2629cc28",
   "metadata": {},
   "outputs": [],
   "source": [
    "df.dtypes"
   ]
  },
  {
   "cell_type": "code",
   "execution_count": null,
   "id": "c550ec37",
   "metadata": {},
   "outputs": [],
   "source": [
    "df.columns"
   ]
  },
  {
   "cell_type": "code",
   "execution_count": null,
   "id": "185a1fa2",
   "metadata": {},
   "outputs": [],
   "source": [
    "df['year'].min()"
   ]
  },
  {
   "cell_type": "code",
   "execution_count": null,
   "id": "d7e5caa8",
   "metadata": {},
   "outputs": [],
   "source": [
    "df['year'].max()"
   ]
  },
  {
   "cell_type": "code",
   "execution_count": null,
   "id": "d6062a03",
   "metadata": {},
   "outputs": [],
   "source": [
    "df.columns"
   ]
  },
  {
   "cell_type": "markdown",
   "id": "e0cc4c1e",
   "metadata": {},
   "source": [
    "# Exploratory Data Analysis"
   ]
  },
  {
   "cell_type": "code",
   "execution_count": null,
   "id": "153f37e0",
   "metadata": {},
   "outputs": [],
   "source": [
    "df[df['year'] == 2020][['title', 'authors','average_rating','language_code','publisher' ]]"
   ]
  },
  {
   "cell_type": "code",
   "execution_count": null,
   "id": "89682359",
   "metadata": {},
   "outputs": [],
   "source": [
    "df.groupby(['year'])['title'].agg('count').sort_values(ascending = False).head(20)"
   ]
  },
  {
   "cell_type": "code",
   "execution_count": null,
   "id": "fc70e488",
   "metadata": {},
   "outputs": [],
   "source": [
    "plt.figure(figsize = (20, 10))\n",
    "sns.countplot(x = 'authors', data = df,\n",
    "             order = df['authors'].value_counts().iloc[:10].index)\n",
    "plt.title(\"Top 10 Authors with maximum book publish\")\n",
    "plt.xticks(fontsize = 12)\n",
    "plt.show()"
   ]
  },
  {
   "cell_type": "code",
   "execution_count": null,
   "id": "c81b3b1e",
   "metadata": {},
   "outputs": [],
   "source": [
    "df.columns"
   ]
  },
  {
   "cell_type": "code",
   "execution_count": null,
   "id": "2005c342",
   "metadata": {},
   "outputs": [],
   "source": [
    "df.language_code.value_counts()"
   ]
  },
  {
   "cell_type": "code",
   "execution_count": null,
   "id": "274922fd",
   "metadata": {},
   "outputs": [],
   "source": [
    "df.groupby(['language_code'])[['average_rating', \n",
    "                               'ratings_count', \n",
    "                               'text_reviews_count']].agg('mean').style.background_gradient(cmap = 'Wistia')\n"
   ]
  },
  {
   "cell_type": "code",
   "execution_count": null,
   "id": "35bc5ca2",
   "metadata": {},
   "outputs": [],
   "source": [
    "book = df['title'].value_counts()[:20]\n",
    "book"
   ]
  },
  {
   "cell_type": "code",
   "execution_count": null,
   "id": "4a146c6a",
   "metadata": {},
   "outputs": [],
   "source": [
    "# to find most occuring book in our data\n",
    "plt.figure(figsize = (20, 6))\n",
    "book = df['title'].value_counts()[:20]\n",
    "sns.barplot(x = book.index, y = book,\n",
    "           palette = 'winter_r')\n",
    "plt.title(\"Most occuring Books\")\n",
    "plt.xlabel(\"Number of Occurance\")\n",
    "plt.ylabel(\"Books\")\n",
    "plt.xticks(rotation = 75, fontsize = 13)\n",
    "plt.show()"
   ]
  },
  {
   "cell_type": "code",
   "execution_count": null,
   "id": "9ae4e41b",
   "metadata": {},
   "outputs": [],
   "source": [
    "sns.distplot(df['average_rating'])\n",
    "plt.show()"
   ]
  },
  {
   "cell_type": "code",
   "execution_count": null,
   "id": "460ed602",
   "metadata": {},
   "outputs": [],
   "source": [
    "df[df.average_rating == df.average_rating.max()][['title','authors','language_code','publisher']]"
   ]
  },
  {
   "cell_type": "code",
   "execution_count": null,
   "id": "850aec7d",
   "metadata": {},
   "outputs": [],
   "source": [
    "publisher = df['publisher'].value_counts()[:20]\n",
    "publisher"
   ]
  },
  {
   "cell_type": "code",
   "execution_count": null,
   "id": "38ab526a",
   "metadata": {},
   "outputs": [],
   "source": [
    "publisher = df['publisher'].value_counts()[:20]\n",
    "sns.barplot(x = publisher.index, y = publisher, palette = 'winter_r')\n",
    "plt.title(\"Publishers\")\n",
    "plt.xlabel(\"Number of Occurance\")\n",
    "plt.ylabel(\"Publishers\")\n",
    "plt.xticks(rotation = 75, fontsize = 13)\n",
    "plt.show()"
   ]
  },
  {
   "cell_type": "markdown",
   "id": "2157eb61",
   "metadata": {},
   "source": [
    "### Recommending Books based on Publishers\n",
    "### Recommending Books based on Authors\n",
    "### Recommending Books based on Language"
   ]
  },
  {
   "cell_type": "code",
   "execution_count": null,
   "id": "757f8866",
   "metadata": {},
   "outputs": [],
   "source": [
    "df.publisher.value_counts()"
   ]
  },
  {
   "cell_type": "code",
   "execution_count": null,
   "id": "87583f70",
   "metadata": {},
   "outputs": [],
   "source": [
    "df.columns\n"
   ]
  },
  {
   "cell_type": "code",
   "execution_count": null,
   "id": "409131d3",
   "metadata": {},
   "outputs": [],
   "source": [
    "def recomd_books_publisheres(x):\n",
    "    a = df[df['publisher'] == x][['title', 'average_rating']]\n",
    "    a = a.sort_values(by = 'average_rating', ascending = False)\n",
    "    return a.head(10)"
   ]
  },
  {
   "cell_type": "code",
   "execution_count": null,
   "id": "c7ca6d7d",
   "metadata": {},
   "outputs": [],
   "source": [
    "recomd_books_publisheres('Vintage')"
   ]
  },
  {
   "cell_type": "code",
   "execution_count": null,
   "id": "4299533b",
   "metadata": {},
   "outputs": [],
   "source": [
    "recomd_books_publisheres('Penguin Books')"
   ]
  },
  {
   "cell_type": "code",
   "execution_count": null,
   "id": "27709159",
   "metadata": {},
   "outputs": [],
   "source": [
    "@interact\n",
    "def recomd_books_publishers(publisher_name = list(df['publisher'].value_counts().index)):\n",
    "    a = df[df['publisher'] == publisher_name][['title', 'average_rating']]\n",
    "    a = a.sort_values(by = 'average_rating', ascending = False)\n",
    "    return a.head(10)"
   ]
  },
  {
   "cell_type": "code",
   "execution_count": null,
   "id": "5f984078",
   "metadata": {},
   "outputs": [],
   "source": [
    "df.columns"
   ]
  },
  {
   "cell_type": "markdown",
   "id": "013c930b",
   "metadata": {},
   "source": [
    "# based upon Authors"
   ]
  },
  {
   "cell_type": "code",
   "execution_count": null,
   "id": "fe1b091f",
   "metadata": {},
   "outputs": [],
   "source": [
    "@interact\n",
    "def recomd_books_authors(authors_name = list(df['authors'].value_counts().index)):\n",
    "    a = df[df['authors'] == authors_name][['title', 'average_rating']]\n",
    "    a = a.sort_values(by = 'average_rating', ascending = False)\n",
    "    return a.head(10)"
   ]
  },
  {
   "cell_type": "code",
   "execution_count": null,
   "id": "3ffc27ba",
   "metadata": {},
   "outputs": [],
   "source": [
    "df.columns"
   ]
  },
  {
   "cell_type": "code",
   "execution_count": null,
   "id": "e5975c0f",
   "metadata": {},
   "outputs": [],
   "source": [
    "@interact\n",
    "def recomd_books_lang(language = list(df['language_code'].value_counts().index)):\n",
    "    a = df[df['language_code'] == language][['title', 'average_rating']]\n",
    "    a = a.sort_values(by = 'average_rating', ascending = False)\n",
    "    return a.head(10)"
   ]
  },
  {
   "cell_type": "markdown",
   "id": "8b99e4e8",
   "metadata": {},
   "source": [
    "# Data Preprocessing"
   ]
  },
  {
   "cell_type": "code",
   "execution_count": null,
   "id": "ef000752",
   "metadata": {},
   "outputs": [],
   "source": [
    "df.head(2)"
   ]
  },
  {
   "cell_type": "code",
   "execution_count": null,
   "id": "c500a8a3",
   "metadata": {},
   "outputs": [],
   "source": [
    "def num_to_obj(x):\n",
    "    if x >0 and x <=1:\n",
    "        return \"between 0 and 1\"\n",
    "    if x > 1 and x <= 2:\n",
    "        return \"between 1 and 2\"\n",
    "    if x > 2 and x <=3:\n",
    "        return \"between 2 and 3\"\n",
    "    if x >3 and x<=4:\n",
    "        return \"between 3 and 4\"\n",
    "    if x >4 and x<=5:\n",
    "        return \"between 4 and 5\"\n",
    "df['rating_obj'] = df['average_rating'].apply(num_to_obj)"
   ]
  },
  {
   "cell_type": "code",
   "execution_count": null,
   "id": "06c30f89",
   "metadata": {},
   "outputs": [],
   "source": [
    "df['rating_obj'].value_counts()"
   ]
  },
  {
   "cell_type": "code",
   "execution_count": null,
   "id": "f2128976",
   "metadata": {
    "scrolled": true
   },
   "outputs": [],
   "source": [
    "rating_df = pd.get_dummies(df['rating_obj'])\n",
    "rating_df.head()"
   ]
  },
  {
   "cell_type": "code",
   "execution_count": null,
   "id": "17888047",
   "metadata": {},
   "outputs": [],
   "source": [
    "df.columns"
   ]
  },
  {
   "cell_type": "code",
   "execution_count": null,
   "id": "2fc63fd4",
   "metadata": {},
   "outputs": [],
   "source": [
    "language_df = pd.get_dummies(df['language_code'])\n",
    "language_df.head()"
   ]
  },
  {
   "cell_type": "code",
   "execution_count": null,
   "id": "340bc6f9",
   "metadata": {},
   "outputs": [],
   "source": [
    "features = pd.concat([rating_df,language_df, df['average_rating'],\n",
    "                    df['ratings_count'], df['title']], axis = 1)\n",
    "features.set_index('title', inplace= True)\n",
    "features.head()"
   ]
  },
  {
   "cell_type": "code",
   "execution_count": null,
   "id": "65920901",
   "metadata": {},
   "outputs": [],
   "source": [
    "from sklearn.preprocessing import MinMaxScaler "
   ]
  },
  {
   "cell_type": "code",
   "execution_count": null,
   "id": "036d5324",
   "metadata": {},
   "outputs": [],
   "source": [
    "scaler = MinMaxScaler()\n",
    "features_scaled = scaler.fit_transform(features)"
   ]
  },
  {
   "cell_type": "code",
   "execution_count": null,
   "id": "1096f0ae",
   "metadata": {},
   "outputs": [],
   "source": [
    "features_scaled"
   ]
  },
  {
   "cell_type": "markdown",
   "id": "18fd0a89",
   "metadata": {},
   "source": [
    "# Model Building"
   ]
  },
  {
   "cell_type": "code",
   "execution_count": null,
   "id": "c28ebf5f",
   "metadata": {},
   "outputs": [],
   "source": [
    "from sklearn import neighbors"
   ]
  },
  {
   "cell_type": "code",
   "execution_count": null,
   "id": "94cc4eed",
   "metadata": {},
   "outputs": [],
   "source": [
    "model = neighbors.NearestNeighbors(n_neighbors=5, algorithm = 'ball_tree',\n",
    "                                  metric = 'euclidean')\n",
    "model.fit(features_scaled)\n",
    "dist, idlist = model.kneighbors(features_scaled)"
   ]
  },
  {
   "cell_type": "code",
   "execution_count": null,
   "id": "6477edc2",
   "metadata": {},
   "outputs": [],
   "source": [
    "df['title'].value_counts()"
   ]
  },
  {
   "cell_type": "code",
   "execution_count": null,
   "id": "1d7d5e2a",
   "metadata": {},
   "outputs": [],
   "source": [
    "@interact\n",
    "def BookRecomender(book_name = list(df['title'].value_counts().index)):\n",
    "    book_list_name = []\n",
    "    book_id = df[df['title'] == book_name.index]\n",
    "    book_id = book_id[0]\n",
    "    for newid in idlist[book_id]:\n",
    "        book_list_name.append(df.iloc[newid].title)\n",
    "    return book_list_name"
   ]
  },
  {
   "cell_type": "code",
   "execution_count": null,
   "id": "cabcbdef",
   "metadata": {},
   "outputs": [],
   "source": []
  },
  {
   "cell_type": "code",
   "execution_count": null,
   "id": "3104471a-1b65-4ba4-9d5d-acfe8b90262f",
   "metadata": {},
   "outputs": [],
   "source": []
  },
  {
   "cell_type": "code",
   "execution_count": null,
   "id": "8a1a0a1d-2189-4e40-8bb7-7fc0ff4af7f7",
   "metadata": {},
   "outputs": [],
   "source": []
  },
  {
   "cell_type": "code",
   "execution_count": null,
   "id": "69705d36-26c9-4106-a7da-b454d062c9ba",
   "metadata": {},
   "outputs": [],
   "source": []
  },
  {
   "cell_type": "code",
   "execution_count": null,
   "id": "7e6d2274-f0b4-4162-9c5f-6f9fd66c63df",
   "metadata": {},
   "outputs": [],
   "source": []
  }
 ],
 "metadata": {
  "kernelspec": {
   "display_name": "Python 3 (ipykernel)",
   "language": "python",
   "name": "python3"
  },
  "language_info": {
   "codemirror_mode": {
    "name": "ipython",
    "version": 3
   },
   "file_extension": ".py",
   "mimetype": "text/x-python",
   "name": "python",
   "nbconvert_exporter": "python",
   "pygments_lexer": "ipython3",
   "version": "3.12.4"
  }
 },
 "nbformat": 4,
 "nbformat_minor": 5
}
